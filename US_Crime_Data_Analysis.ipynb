{
 "cells": [
  {
   "cell_type": "code",
   "execution_count": 1,
   "metadata": {},
   "outputs": [],
   "source": [
    "import pandas as pd\n",
    "from datetime import datetime\n",
    "import jovian_project.data_cleaning as dc\n",
    "from sodapy import Socrata"
   ]
  },
  {
   "cell_type": "code",
   "execution_count": 4,
   "metadata": {},
   "outputs": [
    {
     "name": "stderr",
     "output_type": "stream",
     "text": [
      "WARNING:root:Requests made without an app_token will be subject to strict throttling limits.\n"
     ]
    }
   ],
   "source": [
    "#Used the Socrata Api to get the data from the Los Angeles Crime Data\n",
    "client = Socrata(\"data.lacity.org\", None)\n",
    "results = client.get(\"2nrs-mtv8\", limit=1000000)\n"
   ]
  },
  {
   "cell_type": "code",
   "execution_count": 17,
   "metadata": {},
   "outputs": [],
   "source": [
    "#create a dataframe from the resulting data\n",
    "crime_df = pd.DataFrame.from_records(results)"
   ]
  },
  {
   "cell_type": "code",
   "execution_count": 18,
   "metadata": {},
   "outputs": [],
   "source": [
    "cleaned_crime_df= crime_df.copy()"
   ]
  },
  {
   "cell_type": "code",
   "execution_count": 19,
   "metadata": {},
   "outputs": [],
   "source": [
    "dc.edit_column(cleaned_crime_df, 'time_occ', dc.clean_military_time)"
   ]
  },
  {
   "cell_type": "code",
   "execution_count": 20,
   "metadata": {},
   "outputs": [],
   "source": [
    "cleaned_crime_df['time_occ']=pd.to_datetime(cleaned_crime_df['time_occ'], format='%H:%M').dt.time"
   ]
  },
  {
   "cell_type": "code",
   "execution_count": 23,
   "metadata": {},
   "outputs": [],
   "source": [
    "# Dropping the Weapon Used Code, Status, Crime Code 1 columns as they are redundant\n",
    "cleaned_crime_df.drop(columns=['weapon_used_cd', 'status', 'crm_cd_1','mocodes','part_1_2'], inplace=True)\n"
   ]
  },
  {
   "cell_type": "code",
   "execution_count": 24,
   "metadata": {},
   "outputs": [],
   "source": [
    "# Filling missing values in Weapon Description column with 'UNKNOWN WEAPON/OTHER WEAPON'as it is already present in the Weapon Description column, Victim Sex -> X (Rerpresents unknown) and Victim Descent -> Unknown\n",
    "cleaned_crime_df['weapon_desc'].fillna('UNKNOWN WEAPON/OTHER WEAPON', inplace=True)\n",
    "cleaned_crime_df['vict_sex'].fillna('X', inplace=True)\n",
    "cleaned_crime_df['vict_descent'].fillna('Unknown', inplace=True)\n"
   ]
  },
  {
   "cell_type": "code",
   "execution_count": 25,
   "metadata": {},
   "outputs": [],
   "source": [
    "#Descent of victim was represented by a single letter code which was not very intuitive. So, we replaced the codes with the actual description of the descent.\n",
    "#make a dictionary of Descent Codes and Descent Description\n",
    "descent_dict = {'A': 'Other Asian', 'B': 'Black', \n",
    "                'C': 'Chinese', 'D': 'Cambodian', \n",
    "                'F': 'Filipino', 'G': 'Guamanian', \n",
    "                'H': 'Hispanic/Latin/Mexican', \n",
    "                'I': 'American Indian/Alaskan Native', \n",
    "                'J': 'Japanese', 'K': 'Korean', 'L': 'Laotian', \n",
    "                'O': 'Other', 'P': 'Pacific Islander', \n",
    "                'S': 'Samoan', 'U': 'Hawaiian', 'V': 'Vietnamese', \n",
    "                'W': 'White', 'X': 'Unknown', \n",
    "                'Z': 'Asian Indian'}\n",
    "# replace the Descent Codes with Descent Description\n",
    "cleaned_crime_df['vict_descent'].replace(descent_dict, inplace=True)"
   ]
  },
  {
   "cell_type": "code",
   "execution_count": 26,
   "metadata": {},
   "outputs": [],
   "source": [
    "# Convert date_occ and date_rptd to datetime objects and remove the time component beacause it was the same for all the rows.\n",
    "cleaned_crime_df['date_occ'] = pd.to_datetime(cleaned_crime_df['date_occ'], format='%Y-%m-%dT%H:%M:%S.%f').dt.date\n",
    "cleaned_crime_df['date_rptd'] = pd.to_datetime(cleaned_crime_df['date_rptd'], format='%Y-%m-%dT%H:%M:%S.%f').dt.date"
   ]
  },
  {
   "cell_type": "code",
   "execution_count": 32,
   "metadata": {},
   "outputs": [
    {
     "data": {
      "text/plain": [
       "array(['36', '25', '0', '76', '31', '23', '29', '35', '41', '24', '34',\n",
       "       '46', '66', '40', '27', '62', '43', '71', '50', '19', '51', '33',\n",
       "       '69', '39', '57', '78', '52', '38', '55', '44', '18', '54', '22',\n",
       "       '28', '42', '56', '67', '37', '60', '61', '59', '32', '30', '45',\n",
       "       '20', '15', '58', '47', '48', '26', '21', '64', '75', '12', '49',\n",
       "       '68', '14', '13', '10', '53', '74', '17', '65', '63', '8', '16',\n",
       "       '72', '70', '9', '90', '85', '81', '79', '94', '73', '11', '80',\n",
       "       '5', '82', '2', '77', '84', '88', '96', '99', '7', '86', '92', '3',\n",
       "       '83', '87', '6', '-1', '89', '4', '93', '98', '91', '95', '-2',\n",
       "       '97', '120'], dtype=object)"
      ]
     },
     "execution_count": 32,
     "metadata": {},
     "output_type": "execute_result"
    }
   ],
   "source": [
    "\n",
    "cleaned_crime_df['vict_age'].unique()"
   ]
  },
  {
   "cell_type": "code",
   "execution_count": null,
   "metadata": {},
   "outputs": [],
   "source": [
    "#replace 0 and less than "
   ]
  },
  {
   "cell_type": "code",
   "execution_count": 12,
   "metadata": {},
   "outputs": [
    {
     "data": {
      "text/plain": [
       "0"
      ]
     },
     "execution_count": 12,
     "metadata": {},
     "output_type": "execute_result"
    }
   ],
   "source": [
    "#check for duplicate rows in cleaned_crime_df\n",
    "crime_df.duplicated().sum()"
   ]
  },
  {
   "cell_type": "code",
   "execution_count": 33,
   "metadata": {},
   "outputs": [
    {
     "data": {
      "text/plain": [
       "dr_no                  0\n",
       "date_rptd              0\n",
       "date_occ               0\n",
       "time_occ               0\n",
       "area                   0\n",
       "area_name              0\n",
       "rpt_dist_no            0\n",
       "part_1_2               0\n",
       "crm_cd                 0\n",
       "crm_cd_desc            0\n",
       "mocodes            99652\n",
       "vict_age               0\n",
       "vict_sex           94835\n",
       "vict_descent       94841\n",
       "premis_cd              9\n",
       "premis_desc          407\n",
       "weapon_used_cd    474453\n",
       "weapon_desc       474453\n",
       "status                 0\n",
       "status_desc            0\n",
       "crm_cd_1               8\n",
       "location               0\n",
       "lat                    0\n",
       "lon                    0\n",
       "crm_cd_2          672601\n",
       "cross_street      609321\n",
       "crm_cd_3          724726\n",
       "crm_cd_4          726477\n",
       "dtype: int64"
      ]
     },
     "execution_count": 33,
     "metadata": {},
     "output_type": "execute_result"
    }
   ],
   "source": [
    "#check for missing values in crime_df\n",
    "crime_df.isna().sum()"
   ]
  },
  {
   "cell_type": "code",
   "execution_count": 22,
   "metadata": {},
   "outputs": [
    {
     "name": "stdout",
     "output_type": "stream",
     "text": [
      "<class 'pandas.core.frame.DataFrame'>\n",
      "RangeIndex: 1000 entries, 0 to 999\n",
      "Data columns (total 26 columns):\n",
      " #   Column          Non-Null Count  Dtype  \n",
      "---  ------          --------------  -----  \n",
      " 0   dr_no           1000 non-null   int64  \n",
      " 1   date_rptd       1000 non-null   object \n",
      " 2   date_occ        1000 non-null   object \n",
      " 3   time_occ        1000 non-null   object \n",
      " 4   area            1000 non-null   int64  \n",
      " 5   area_name       1000 non-null   object \n",
      " 6   rpt_dist_no     1000 non-null   int64  \n",
      " 7   part_1_2        1000 non-null   int64  \n",
      " 8   crm_cd          1000 non-null   int64  \n",
      " 9   crm_cd_desc     1000 non-null   object \n",
      " 10  mocodes         930 non-null    object \n",
      " 11  vict_age        1000 non-null   int64  \n",
      " 12  vict_sex        938 non-null    object \n",
      " 13  vict_descent    938 non-null    object \n",
      " 14  premis_cd       1000 non-null   int64  \n",
      " 15  premis_desc     1000 non-null   object \n",
      " 16  weapon_used_cd  392 non-null    float64\n",
      " 17  weapon_desc     392 non-null    object \n",
      " 18  status          1000 non-null   object \n",
      " 19  status_desc     1000 non-null   object \n",
      " 20  crm_cd_1        1000 non-null   int64  \n",
      " 21  location        1000 non-null   object \n",
      " 22  lat             1000 non-null   float64\n",
      " 23  lon             1000 non-null   float64\n",
      " 24  crm_cd_2        77 non-null     float64\n",
      " 25  cross_street    257 non-null    object \n",
      "dtypes: float64(4), int64(8), object(14)\n",
      "memory usage: 203.2+ KB\n"
     ]
    }
   ],
   "source": [
    "#check for outliers in the crime_df\n",
    "crime_df.i\n"
   ]
  },
  {
   "cell_type": "code",
   "execution_count": 21,
   "metadata": {},
   "outputs": [
    {
     "name": "stdout",
     "output_type": "stream",
     "text": [
      "<class 'pandas.core.frame.DataFrame'>\n",
      "RangeIndex: 1000 entries, 0 to 999\n",
      "Data columns (total 21 columns):\n",
      " #   Column        Non-Null Count  Dtype  \n",
      "---  ------        --------------  -----  \n",
      " 0   dr_no         1000 non-null   int64  \n",
      " 1   date_rptd     1000 non-null   object \n",
      " 2   date_occ      1000 non-null   object \n",
      " 3   time_occ      1000 non-null   object \n",
      " 4   area          1000 non-null   int64  \n",
      " 5   area_name     1000 non-null   object \n",
      " 6   rpt_dist_no   1000 non-null   int64  \n",
      " 7   crm_cd        1000 non-null   int64  \n",
      " 8   crm_cd_desc   1000 non-null   object \n",
      " 9   vict_age      1000 non-null   float64\n",
      " 10  vict_sex      1000 non-null   object \n",
      " 11  vict_descent  1000 non-null   object \n",
      " 12  premis_cd     1000 non-null   int64  \n",
      " 13  premis_desc   1000 non-null   object \n",
      " 14  weapon_desc   1000 non-null   object \n",
      " 15  status_desc   1000 non-null   object \n",
      " 16  location      1000 non-null   object \n",
      " 17  lat           1000 non-null   float64\n",
      " 18  lon           1000 non-null   float64\n",
      " 19  crm_cd_2      77 non-null     float64\n",
      " 20  cross_street  257 non-null    object \n",
      "dtypes: float64(4), int64(5), object(12)\n",
      "memory usage: 164.2+ KB\n"
     ]
    }
   ],
   "source": [
    "cleaned_crime_df.info()"
   ]
  },
  {
   "cell_type": "code",
   "execution_count": 16,
   "metadata": {},
   "outputs": [
    {
     "data": {
      "text/plain": [
       "array([36.  , 25.  , 32.44, 76.  , 31.  , 23.  , 29.  , 35.  , 41.  ,\n",
       "       24.  , 34.  , 46.  , 66.  , 40.  , 27.  , 62.  , 43.  , 71.  ,\n",
       "       50.  , 19.  , 51.  , 33.  , 69.  , 39.  , 57.  , 78.  , 52.  ,\n",
       "       38.  , 55.  , 44.  , 18.  , 54.  , 22.  , 28.  , 42.  , 56.  ,\n",
       "       67.  , 37.  , 60.  , 61.  , 59.  , 32.  , 30.  , 45.  , 20.  ,\n",
       "       15.  , 58.  , 47.  , 48.  , 26.  , 21.  , 64.  , 75.  , 12.  ,\n",
       "       49.  , 68.  , 14.  , 13.  , 10.  , 53.  , 74.  , 17.  , 65.  ,\n",
       "       63.  ,  8.  , 16.  , 72.  , 70.  ,  9.  , 90.  , 85.  , 81.  ,\n",
       "       79.  , 94.  , 73.  ])"
      ]
     },
     "execution_count": 16,
     "metadata": {},
     "output_type": "execute_result"
    }
   ],
   "source": [
    "cleaned_crime_df['vict_age'].unique()"
   ]
  },
  {
   "cell_type": "code",
   "execution_count": 17,
   "metadata": {},
   "outputs": [
    {
     "data": {
      "text/plain": [
       "array(['F', 'M', 'X'], dtype=object)"
      ]
     },
     "execution_count": 17,
     "metadata": {},
     "output_type": "execute_result"
    }
   ],
   "source": [
    "cleaned_crime_df['vict_sex'].unique()"
   ]
  },
  {
   "cell_type": "code",
   "execution_count": 28,
   "metadata": {},
   "outputs": [],
   "source": [
    "df=cleaned_crime_df.groupby(by='vict_sex').count()"
   ]
  },
  {
   "cell_type": "code",
   "execution_count": 29,
   "metadata": {},
   "outputs": [
    {
     "data": {
      "text/html": [
       "<div>\n",
       "<style scoped>\n",
       "    .dataframe tbody tr th:only-of-type {\n",
       "        vertical-align: middle;\n",
       "    }\n",
       "\n",
       "    .dataframe tbody tr th {\n",
       "        vertical-align: top;\n",
       "    }\n",
       "\n",
       "    .dataframe thead th {\n",
       "        text-align: right;\n",
       "    }\n",
       "</style>\n",
       "<table border=\"1\" class=\"dataframe\">\n",
       "  <thead>\n",
       "    <tr style=\"text-align: right;\">\n",
       "      <th></th>\n",
       "      <th>dr_no</th>\n",
       "      <th>date_rptd</th>\n",
       "      <th>date_occ</th>\n",
       "      <th>time_occ</th>\n",
       "      <th>area</th>\n",
       "      <th>area_name</th>\n",
       "      <th>rpt_dist_no</th>\n",
       "      <th>crm_cd</th>\n",
       "      <th>crm_cd_desc</th>\n",
       "      <th>vict_age</th>\n",
       "      <th>vict_descent</th>\n",
       "      <th>premis_cd</th>\n",
       "      <th>premis_desc</th>\n",
       "      <th>weapon_desc</th>\n",
       "      <th>status_desc</th>\n",
       "      <th>location</th>\n",
       "      <th>lat</th>\n",
       "      <th>lon</th>\n",
       "      <th>crm_cd_2</th>\n",
       "      <th>cross_street</th>\n",
       "    </tr>\n",
       "    <tr>\n",
       "      <th>vict_sex</th>\n",
       "      <th></th>\n",
       "      <th></th>\n",
       "      <th></th>\n",
       "      <th></th>\n",
       "      <th></th>\n",
       "      <th></th>\n",
       "      <th></th>\n",
       "      <th></th>\n",
       "      <th></th>\n",
       "      <th></th>\n",
       "      <th></th>\n",
       "      <th></th>\n",
       "      <th></th>\n",
       "      <th></th>\n",
       "      <th></th>\n",
       "      <th></th>\n",
       "      <th></th>\n",
       "      <th></th>\n",
       "      <th></th>\n",
       "      <th></th>\n",
       "    </tr>\n",
       "  </thead>\n",
       "  <tbody>\n",
       "    <tr>\n",
       "      <th>F</th>\n",
       "      <td>359</td>\n",
       "      <td>359</td>\n",
       "      <td>359</td>\n",
       "      <td>359</td>\n",
       "      <td>359</td>\n",
       "      <td>359</td>\n",
       "      <td>359</td>\n",
       "      <td>359</td>\n",
       "      <td>359</td>\n",
       "      <td>359</td>\n",
       "      <td>359</td>\n",
       "      <td>359</td>\n",
       "      <td>359</td>\n",
       "      <td>359</td>\n",
       "      <td>359</td>\n",
       "      <td>359</td>\n",
       "      <td>359</td>\n",
       "      <td>359</td>\n",
       "      <td>27</td>\n",
       "      <td>94</td>\n",
       "    </tr>\n",
       "    <tr>\n",
       "      <th>M</th>\n",
       "      <td>510</td>\n",
       "      <td>510</td>\n",
       "      <td>510</td>\n",
       "      <td>510</td>\n",
       "      <td>510</td>\n",
       "      <td>510</td>\n",
       "      <td>510</td>\n",
       "      <td>510</td>\n",
       "      <td>510</td>\n",
       "      <td>510</td>\n",
       "      <td>510</td>\n",
       "      <td>510</td>\n",
       "      <td>510</td>\n",
       "      <td>510</td>\n",
       "      <td>510</td>\n",
       "      <td>510</td>\n",
       "      <td>510</td>\n",
       "      <td>510</td>\n",
       "      <td>44</td>\n",
       "      <td>136</td>\n",
       "    </tr>\n",
       "    <tr>\n",
       "      <th>X</th>\n",
       "      <td>131</td>\n",
       "      <td>131</td>\n",
       "      <td>131</td>\n",
       "      <td>131</td>\n",
       "      <td>131</td>\n",
       "      <td>131</td>\n",
       "      <td>131</td>\n",
       "      <td>131</td>\n",
       "      <td>131</td>\n",
       "      <td>131</td>\n",
       "      <td>131</td>\n",
       "      <td>131</td>\n",
       "      <td>131</td>\n",
       "      <td>131</td>\n",
       "      <td>131</td>\n",
       "      <td>131</td>\n",
       "      <td>131</td>\n",
       "      <td>131</td>\n",
       "      <td>6</td>\n",
       "      <td>27</td>\n",
       "    </tr>\n",
       "  </tbody>\n",
       "</table>\n",
       "</div>"
      ],
      "text/plain": [
       "          dr_no  date_rptd  date_occ  time_occ  area  area_name  rpt_dist_no  \\\n",
       "vict_sex                                                                       \n",
       "F           359        359       359       359   359        359          359   \n",
       "M           510        510       510       510   510        510          510   \n",
       "X           131        131       131       131   131        131          131   \n",
       "\n",
       "          crm_cd  crm_cd_desc  vict_age  vict_descent  premis_cd  premis_desc  \\\n",
       "vict_sex                                                                        \n",
       "F            359          359       359           359        359          359   \n",
       "M            510          510       510           510        510          510   \n",
       "X            131          131       131           131        131          131   \n",
       "\n",
       "          weapon_desc  status_desc  location  lat  lon  crm_cd_2  cross_street  \n",
       "vict_sex                                                                        \n",
       "F                 359          359       359  359  359        27            94  \n",
       "M                 510          510       510  510  510        44           136  \n",
       "X                 131          131       131  131  131         6            27  "
      ]
     },
     "execution_count": 29,
     "metadata": {},
     "output_type": "execute_result"
    }
   ],
   "source": [
    "df"
   ]
  },
  {
   "cell_type": "code",
   "execution_count": 32,
   "metadata": {},
   "outputs": [],
   "source": [
    "crime_df_csv = pd.read_csv('https://data.lacity.org/resource/2nrs-mtv8.csv')"
   ]
  },
  {
   "cell_type": "code",
   "execution_count": 34,
   "metadata": {},
   "outputs": [
    {
     "data": {
      "text/html": [
       "<div>\n",
       "<style scoped>\n",
       "    .dataframe tbody tr th:only-of-type {\n",
       "        vertical-align: middle;\n",
       "    }\n",
       "\n",
       "    .dataframe tbody tr th {\n",
       "        vertical-align: top;\n",
       "    }\n",
       "\n",
       "    .dataframe thead th {\n",
       "        text-align: right;\n",
       "    }\n",
       "</style>\n",
       "<table border=\"1\" class=\"dataframe\">\n",
       "  <thead>\n",
       "    <tr style=\"text-align: right;\">\n",
       "      <th></th>\n",
       "      <th>dr_no</th>\n",
       "      <th>date_rptd</th>\n",
       "      <th>date_occ</th>\n",
       "      <th>time_occ</th>\n",
       "      <th>area</th>\n",
       "      <th>area_name</th>\n",
       "      <th>rpt_dist_no</th>\n",
       "      <th>part_1_2</th>\n",
       "      <th>crm_cd</th>\n",
       "      <th>crm_cd_desc</th>\n",
       "      <th>...</th>\n",
       "      <th>status</th>\n",
       "      <th>status_desc</th>\n",
       "      <th>crm_cd_1</th>\n",
       "      <th>crm_cd_2</th>\n",
       "      <th>crm_cd_3</th>\n",
       "      <th>crm_cd_4</th>\n",
       "      <th>location</th>\n",
       "      <th>cross_street</th>\n",
       "      <th>lat</th>\n",
       "      <th>lon</th>\n",
       "    </tr>\n",
       "  </thead>\n",
       "  <tbody>\n",
       "    <tr>\n",
       "      <th>995</th>\n",
       "      <td>200105945</td>\n",
       "      <td>2020-01-29T00:00:00.000</td>\n",
       "      <td>2020-01-28T00:00:00.000</td>\n",
       "      <td>1725</td>\n",
       "      <td>1</td>\n",
       "      <td>Central</td>\n",
       "      <td>124</td>\n",
       "      <td>2</td>\n",
       "      <td>903</td>\n",
       "      <td>CONTEMPT OF COURT</td>\n",
       "      <td>...</td>\n",
       "      <td>IC</td>\n",
       "      <td>Invest Cont</td>\n",
       "      <td>903</td>\n",
       "      <td>NaN</td>\n",
       "      <td>NaN</td>\n",
       "      <td>NaN</td>\n",
       "      <td>100 W  1ST                          ST</td>\n",
       "      <td>NaN</td>\n",
       "      <td>34.0522</td>\n",
       "      <td>-118.2434</td>\n",
       "    </tr>\n",
       "    <tr>\n",
       "      <th>996</th>\n",
       "      <td>200105946</td>\n",
       "      <td>2020-01-29T00:00:00.000</td>\n",
       "      <td>2020-01-29T00:00:00.000</td>\n",
       "      <td>720</td>\n",
       "      <td>1</td>\n",
       "      <td>Central</td>\n",
       "      <td>157</td>\n",
       "      <td>2</td>\n",
       "      <td>624</td>\n",
       "      <td>BATTERY - SIMPLE ASSAULT</td>\n",
       "      <td>...</td>\n",
       "      <td>IC</td>\n",
       "      <td>Invest Cont</td>\n",
       "      <td>624</td>\n",
       "      <td>NaN</td>\n",
       "      <td>NaN</td>\n",
       "      <td>NaN</td>\n",
       "      <td>600 S  SAN PEDRO                    ST</td>\n",
       "      <td>NaN</td>\n",
       "      <td>34.0423</td>\n",
       "      <td>-118.2452</td>\n",
       "    </tr>\n",
       "    <tr>\n",
       "      <th>997</th>\n",
       "      <td>200105947</td>\n",
       "      <td>2020-01-29T00:00:00.000</td>\n",
       "      <td>2020-01-28T00:00:00.000</td>\n",
       "      <td>1730</td>\n",
       "      <td>1</td>\n",
       "      <td>Central</td>\n",
       "      <td>159</td>\n",
       "      <td>1</td>\n",
       "      <td>510</td>\n",
       "      <td>VEHICLE - STOLEN</td>\n",
       "      <td>...</td>\n",
       "      <td>IC</td>\n",
       "      <td>Invest Cont</td>\n",
       "      <td>510</td>\n",
       "      <td>NaN</td>\n",
       "      <td>NaN</td>\n",
       "      <td>NaN</td>\n",
       "      <td>1800    INDUSTRIAL                   ST</td>\n",
       "      <td>NaN</td>\n",
       "      <td>34.0359</td>\n",
       "      <td>-118.2344</td>\n",
       "    </tr>\n",
       "    <tr>\n",
       "      <th>998</th>\n",
       "      <td>210817688</td>\n",
       "      <td>2021-12-16T00:00:00.000</td>\n",
       "      <td>2020-12-09T00:00:00.000</td>\n",
       "      <td>1300</td>\n",
       "      <td>8</td>\n",
       "      <td>West LA</td>\n",
       "      <td>835</td>\n",
       "      <td>2</td>\n",
       "      <td>649</td>\n",
       "      <td>DOCUMENT FORGERY / STOLEN FELONY</td>\n",
       "      <td>...</td>\n",
       "      <td>IC</td>\n",
       "      <td>Invest Cont</td>\n",
       "      <td>649</td>\n",
       "      <td>NaN</td>\n",
       "      <td>NaN</td>\n",
       "      <td>NaN</td>\n",
       "      <td>1800    CAMDEN                       AV</td>\n",
       "      <td>NaN</td>\n",
       "      <td>34.0466</td>\n",
       "      <td>-118.4408</td>\n",
       "    </tr>\n",
       "    <tr>\n",
       "      <th>999</th>\n",
       "      <td>200504494</td>\n",
       "      <td>2020-01-11T00:00:00.000</td>\n",
       "      <td>2020-01-11T00:00:00.000</td>\n",
       "      <td>1340</td>\n",
       "      <td>5</td>\n",
       "      <td>Harbor</td>\n",
       "      <td>565</td>\n",
       "      <td>2</td>\n",
       "      <td>930</td>\n",
       "      <td>CRIMINAL THREATS - NO WEAPON DISPLAYED</td>\n",
       "      <td>...</td>\n",
       "      <td>AA</td>\n",
       "      <td>Adult Arrest</td>\n",
       "      <td>930</td>\n",
       "      <td>NaN</td>\n",
       "      <td>NaN</td>\n",
       "      <td>NaN</td>\n",
       "      <td>900 S  GRAND                        AV</td>\n",
       "      <td>NaN</td>\n",
       "      <td>33.7361</td>\n",
       "      <td>-118.2901</td>\n",
       "    </tr>\n",
       "  </tbody>\n",
       "</table>\n",
       "<p>5 rows × 28 columns</p>\n",
       "</div>"
      ],
      "text/plain": [
       "         dr_no                date_rptd                 date_occ  time_occ  \\\n",
       "995  200105945  2020-01-29T00:00:00.000  2020-01-28T00:00:00.000      1725   \n",
       "996  200105946  2020-01-29T00:00:00.000  2020-01-29T00:00:00.000       720   \n",
       "997  200105947  2020-01-29T00:00:00.000  2020-01-28T00:00:00.000      1730   \n",
       "998  210817688  2021-12-16T00:00:00.000  2020-12-09T00:00:00.000      1300   \n",
       "999  200504494  2020-01-11T00:00:00.000  2020-01-11T00:00:00.000      1340   \n",
       "\n",
       "     area area_name  rpt_dist_no  part_1_2  crm_cd  \\\n",
       "995     1   Central          124         2     903   \n",
       "996     1   Central          157         2     624   \n",
       "997     1   Central          159         1     510   \n",
       "998     8   West LA          835         2     649   \n",
       "999     5    Harbor          565         2     930   \n",
       "\n",
       "                                crm_cd_desc  ... status   status_desc  \\\n",
       "995                       CONTEMPT OF COURT  ...     IC   Invest Cont   \n",
       "996                BATTERY - SIMPLE ASSAULT  ...     IC   Invest Cont   \n",
       "997                        VEHICLE - STOLEN  ...     IC   Invest Cont   \n",
       "998        DOCUMENT FORGERY / STOLEN FELONY  ...     IC   Invest Cont   \n",
       "999  CRIMINAL THREATS - NO WEAPON DISPLAYED  ...     AA  Adult Arrest   \n",
       "\n",
       "    crm_cd_1 crm_cd_2  crm_cd_3 crm_cd_4  \\\n",
       "995      903      NaN       NaN      NaN   \n",
       "996      624      NaN       NaN      NaN   \n",
       "997      510      NaN       NaN      NaN   \n",
       "998      649      NaN       NaN      NaN   \n",
       "999      930      NaN       NaN      NaN   \n",
       "\n",
       "                                    location cross_street      lat       lon  \n",
       "995   100 W  1ST                          ST          NaN  34.0522 -118.2434  \n",
       "996   600 S  SAN PEDRO                    ST          NaN  34.0423 -118.2452  \n",
       "997  1800    INDUSTRIAL                   ST          NaN  34.0359 -118.2344  \n",
       "998  1800    CAMDEN                       AV          NaN  34.0466 -118.4408  \n",
       "999   900 S  GRAND                        AV          NaN  33.7361 -118.2901  \n",
       "\n",
       "[5 rows x 28 columns]"
      ]
     },
     "execution_count": 34,
     "metadata": {},
     "output_type": "execute_result"
    }
   ],
   "source": [
    "crime_df_csv.tail()"
   ]
  },
  {
   "cell_type": "code",
   "execution_count": null,
   "metadata": {},
   "outputs": [],
   "source": []
  }
 ],
 "metadata": {
  "kernelspec": {
   "display_name": "base",
   "language": "python",
   "name": "python3"
  },
  "language_info": {
   "codemirror_mode": {
    "name": "ipython",
    "version": 3
   },
   "file_extension": ".py",
   "mimetype": "text/x-python",
   "name": "python",
   "nbconvert_exporter": "python",
   "pygments_lexer": "ipython3",
   "version": "3.10.11"
  },
  "orig_nbformat": 4
 },
 "nbformat": 4,
 "nbformat_minor": 2
}
