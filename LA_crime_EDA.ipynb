{
 "cells": [
  {
   "cell_type": "code",
   "execution_count": 1,
   "metadata": {},
   "outputs": [],
   "source": [
    "import pandas as pd\n",
    "from datetime import datetime\n",
    "import jovian_project.data_cleaning as dc\n",
    "from sodapy import Socrata"
   ]
  },
  {
   "attachments": {},
   "cell_type": "markdown",
   "metadata": {},
   "source": [
    "### Data Source\n",
    "The data is from the 'Crime Data from 2020 to Present' Dataset by Los Angeles Police Department from the Los Angeles Open Data Portal. The data can be found [here](https://data.lacity.org/A-Safe-City/Crime-Data-from-2020-to-Present/2nrs-mtv8). It Contains all crimes reported to the LAPD from 2020 to present and it is updated daily. It contains more than 700,000 records and 26 columns. Data has been pulled in JSON format through the SODA API.\n",
    "\n",
    "We then used the **pandas** library to import this data into a pandas dataframe."
   ]
  },
  {
   "cell_type": "code",
   "execution_count": 2,
   "metadata": {},
   "outputs": [
    {
     "name": "stderr",
     "output_type": "stream",
     "text": [
      "WARNING:root:Requests made without an app_token will be subject to strict throttling limits.\n"
     ]
    }
   ],
   "source": [
    "client = Socrata(\"data.lacity.org\", None)\n",
    "results = client.get(\"2nrs-mtv8\", limit=1000000)"
   ]
  },
  {
   "cell_type": "code",
   "execution_count": 3,
   "metadata": {},
   "outputs": [],
   "source": [
    "#create a dataframe from the resulting data\n",
    "crime_df = pd.DataFrame.from_records(results)"
   ]
  },
  {
   "attachments": {},
   "cell_type": "markdown",
   "metadata": {},
   "source": [
    "We now copy this dataframe and create a new one with the same data to clean and analyze.\n"
   ]
  },
  {
   "cell_type": "code",
   "execution_count": 4,
   "metadata": {},
   "outputs": [],
   "source": [
    "cleaned_crime_df=crime_df.copy()"
   ]
  },
  {
   "attachments": {},
   "cell_type": "markdown",
   "metadata": {},
   "source": [
    "### Data Exploration and Cleaning\n",
    "1. Drop redundant columns.\n",
    "1. Check for the shape of the data and the data types of the columns.\n",
    "2. Check for missing values in each column and replace them with appropriate values.\n",
    "3. Check for duplicates and drop them.\n",
    "4. Check for unique values in each column, Check for outliers and replace them with appropriate values.\n"
   ]
  },
  {
   "attachments": {},
   "cell_type": "markdown",
   "metadata": {},
   "source": [
    "##### 1. Check for the shape of the data and the data types of the columns.\n",
    "- The data has 28 columns and over 725,000 rows.\n",
    "- The data types of the columns are mostly objects and we will have to change them to appropriate data types for analysis and visualization.\n",
    "- *time occ* column (time of occurence) has 24 hour military time but it is in string format and the data has missing zeros. We will have to add zeros to the front of the entries that are less than 4 digits. We will also have to change the data type to time objects for easier analysis and visualization."
   ]
  },
  {
   "cell_type": "code",
   "execution_count": 5,
   "metadata": {},
   "outputs": [
    {
     "name": "stdout",
     "output_type": "stream",
     "text": [
      "(726531, 28)\n"
     ]
    }
   ],
   "source": [
    "#check the shape of dataframe\n",
    "print(cleaned_crime_df.shape)"
   ]
  },
  {
   "cell_type": "code",
   "execution_count": 6,
   "metadata": {},
   "outputs": [
    {
     "name": "stdout",
     "output_type": "stream",
     "text": [
      "<class 'pandas.core.frame.DataFrame'>\n",
      "RangeIndex: 726531 entries, 0 to 726530\n",
      "Data columns (total 28 columns):\n",
      " #   Column          Non-Null Count   Dtype \n",
      "---  ------          --------------   ----- \n",
      " 0   dr_no           726531 non-null  object\n",
      " 1   date_rptd       726531 non-null  object\n",
      " 2   date_occ        726531 non-null  object\n",
      " 3   time_occ        726531 non-null  object\n",
      " 4   area            726531 non-null  object\n",
      " 5   area_name       726531 non-null  object\n",
      " 6   rpt_dist_no     726531 non-null  object\n",
      " 7   part_1_2        726531 non-null  object\n",
      " 8   crm_cd          726531 non-null  object\n",
      " 9   crm_cd_desc     726531 non-null  object\n",
      " 10  mocodes         626879 non-null  object\n",
      " 11  vict_age        726531 non-null  object\n",
      " 12  vict_sex        631696 non-null  object\n",
      " 13  vict_descent    631690 non-null  object\n",
      " 14  premis_cd       726522 non-null  object\n",
      " 15  premis_desc     726124 non-null  object\n",
      " 16  weapon_used_cd  252078 non-null  object\n",
      " 17  weapon_desc     252078 non-null  object\n",
      " 18  status          726531 non-null  object\n",
      " 19  status_desc     726531 non-null  object\n",
      " 20  crm_cd_1        726523 non-null  object\n",
      " 21  location        726531 non-null  object\n",
      " 22  lat             726531 non-null  object\n",
      " 23  lon             726531 non-null  object\n",
      " 24  crm_cd_2        53930 non-null   object\n",
      " 25  cross_street    117210 non-null  object\n",
      " 26  crm_cd_3        1805 non-null    object\n",
      " 27  crm_cd_4        54 non-null      object\n",
      "dtypes: object(28)\n",
      "memory usage: 155.2+ MB\n"
     ]
    }
   ],
   "source": [
    "#checking data types of columns\n",
    "cleaned_crime_df.info()\n"
   ]
  },
  {
   "cell_type": "code",
   "execution_count": 7,
   "metadata": {},
   "outputs": [],
   "source": [
    "#convert vict_age, crm_cd, area, rpt_dist_no, dr_no  columns to interger\n",
    "cleaned_crime_df['vict_age']=cleaned_crime_df['vict_age'].astype(int)\n",
    "cleaned_crime_df['crm_cd']=cleaned_crime_df['crm_cd'].astype(int)\n",
    "cleaned_crime_df['area']=cleaned_crime_df['area'].astype(int)\n",
    "cleaned_crime_df['rpt_dist_no']=cleaned_crime_df['rpt_dist_no'].astype(int)\n",
    "cleaned_crime_df['dr_no']=cleaned_crime_df['dr_no'].astype(int)\n"
   ]
  },
  {
   "cell_type": "code",
   "execution_count": 8,
   "metadata": {},
   "outputs": [],
   "source": [
    "#converting longitude and latitude to float\n",
    "cleaned_crime_df['lon']=cleaned_crime_df['lon'].astype(float)\n",
    "cleaned_crime_df['lat']=cleaned_crime_df['lat'].astype(float)\n"
   ]
  },
  {
   "cell_type": "code",
   "execution_count": 9,
   "metadata": {},
   "outputs": [],
   "source": [
    "#converting date_occ and date_rptd columns to pandas datetime objects\n",
    "cleaned_crime_df['date_occ'] = pd.to_datetime(cleaned_crime_df['date_occ'], format='%Y-%m-%dT%H:%M:%S.%f').dt.date\n",
    "cleaned_crime_df['date_rptd'] = pd.to_datetime(cleaned_crime_df['date_rptd'], format='%Y-%m-%dT%H:%M:%S.%f').dt.date"
   ]
  },
  {
   "cell_type": "code",
   "execution_count": 10,
   "metadata": {},
   "outputs": [],
   "source": [
    "#converting time_occ(time of occurence) column from 24 hour military format with some values missing a few digits to pandas time objects\n",
    "dc.edit_column(cleaned_crime_df, 'time_occ', dc.clean_military_time)\n",
    "cleaned_crime_df['time_occ']=pd.to_datetime(cleaned_crime_df['time_occ'], format='%H:%M').dt.time"
   ]
  },
  {
   "cell_type": "code",
   "execution_count": 11,
   "metadata": {},
   "outputs": [
    {
     "name": "stdout",
     "output_type": "stream",
     "text": [
      "Index(['dr_no', 'date_rptd', 'date_occ', 'time_occ', 'area', 'area_name',\n",
      "       'rpt_dist_no', 'part_1_2', 'crm_cd', 'crm_cd_desc', 'mocodes',\n",
      "       'vict_age', 'vict_sex', 'vict_descent', 'premis_cd', 'premis_desc',\n",
      "       'weapon_used_cd', 'weapon_desc', 'status', 'status_desc', 'crm_cd_1',\n",
      "       'location', 'lat', 'lon', 'crm_cd_2', 'cross_street', 'crm_cd_3',\n",
      "       'crm_cd_4'],\n",
      "      dtype='object')\n"
     ]
    }
   ],
   "source": [
    "#check the columns of dataframe\n",
    "print(cleaned_crime_df.columns)"
   ]
  },
  {
   "attachments": {},
   "cell_type": "markdown",
   "metadata": {},
   "source": [
    "##### 1. Drop redundant columns.\n",
    "- **weapon_used_code** is redundant with weapon_description. Although it may be useful for machine learning purposes, it is not useful for EDA because it is a code and not a description.\n",
    "- **status_code** is redundant with status_description. Status description is more descriptive, easier to understand and small in size.\n",
    "- **crm_cd_1** is redundant with crm_cd. By definition, crm_cd_1 is the same as crm_cd. I will drop crm_cd_1.\n",
    "- **mocodes, crm_cd_2, cross_street** all have missing values but they will not be used in the analysis so they will be dropped.\n",
    "- **crm_cd_3 and crm_cd_4** are practically empty and will be dropped."
   ]
  },
  {
   "cell_type": "code",
   "execution_count": 53,
   "metadata": {},
   "outputs": [
    {
     "ename": "KeyError",
     "evalue": "\"['weapon_used_cd', 'status', 'crm_cd_1', 'mocodes', 'part_1_2', 'cross_street', 'crm_cd_3', 'crm_cd_4', 'crm_cd_2'] not found in axis\"",
     "output_type": "error",
     "traceback": [
      "\u001b[0;31m---------------------------------------------------------------------------\u001b[0m",
      "\u001b[0;31mKeyError\u001b[0m                                  Traceback (most recent call last)",
      "Cell \u001b[0;32mIn[53], line 2\u001b[0m\n\u001b[1;32m      1\u001b[0m \u001b[39m# Dropping the redundant columns\u001b[39;00m\n\u001b[0;32m----> 2\u001b[0m cleaned_crime_df\u001b[39m.\u001b[39;49mdrop(columns\u001b[39m=\u001b[39;49m[\u001b[39m'\u001b[39;49m\u001b[39mweapon_used_cd\u001b[39;49m\u001b[39m'\u001b[39;49m, \u001b[39m'\u001b[39;49m\u001b[39mstatus\u001b[39;49m\u001b[39m'\u001b[39;49m, \u001b[39m'\u001b[39;49m\u001b[39mcrm_cd_1\u001b[39;49m\u001b[39m'\u001b[39;49m,\u001b[39m'\u001b[39;49m\u001b[39mmocodes\u001b[39;49m\u001b[39m'\u001b[39;49m,\u001b[39m'\u001b[39;49m\u001b[39mpart_1_2\u001b[39;49m\u001b[39m'\u001b[39;49m,\u001b[39m'\u001b[39;49m\u001b[39mcross_street\u001b[39;49m\u001b[39m'\u001b[39;49m, \u001b[39m'\u001b[39;49m\u001b[39mcrm_cd_3\u001b[39;49m\u001b[39m'\u001b[39;49m, \u001b[39m'\u001b[39;49m\u001b[39mcrm_cd_4\u001b[39;49m\u001b[39m'\u001b[39;49m,\u001b[39m'\u001b[39;49m\u001b[39mcrm_cd_2\u001b[39;49m\u001b[39m'\u001b[39;49m], inplace\u001b[39m=\u001b[39;49m\u001b[39mTrue\u001b[39;49;00m)\n",
      "File \u001b[0;32m~/anaconda3/envs/Jovian/lib/python3.10/site-packages/pandas/util/_decorators.py:331\u001b[0m, in \u001b[0;36mdeprecate_nonkeyword_arguments.<locals>.decorate.<locals>.wrapper\u001b[0;34m(*args, **kwargs)\u001b[0m\n\u001b[1;32m    325\u001b[0m \u001b[39mif\u001b[39;00m \u001b[39mlen\u001b[39m(args) \u001b[39m>\u001b[39m num_allow_args:\n\u001b[1;32m    326\u001b[0m     warnings\u001b[39m.\u001b[39mwarn(\n\u001b[1;32m    327\u001b[0m         msg\u001b[39m.\u001b[39mformat(arguments\u001b[39m=\u001b[39m_format_argument_list(allow_args)),\n\u001b[1;32m    328\u001b[0m         \u001b[39mFutureWarning\u001b[39;00m,\n\u001b[1;32m    329\u001b[0m         stacklevel\u001b[39m=\u001b[39mfind_stack_level(),\n\u001b[1;32m    330\u001b[0m     )\n\u001b[0;32m--> 331\u001b[0m \u001b[39mreturn\u001b[39;00m func(\u001b[39m*\u001b[39;49margs, \u001b[39m*\u001b[39;49m\u001b[39m*\u001b[39;49mkwargs)\n",
      "File \u001b[0;32m~/anaconda3/envs/Jovian/lib/python3.10/site-packages/pandas/core/frame.py:5399\u001b[0m, in \u001b[0;36mDataFrame.drop\u001b[0;34m(self, labels, axis, index, columns, level, inplace, errors)\u001b[0m\n\u001b[1;32m   5251\u001b[0m \u001b[39m@deprecate_nonkeyword_arguments\u001b[39m(version\u001b[39m=\u001b[39m\u001b[39mNone\u001b[39;00m, allowed_args\u001b[39m=\u001b[39m[\u001b[39m\"\u001b[39m\u001b[39mself\u001b[39m\u001b[39m\"\u001b[39m, \u001b[39m\"\u001b[39m\u001b[39mlabels\u001b[39m\u001b[39m\"\u001b[39m])\n\u001b[1;32m   5252\u001b[0m \u001b[39mdef\u001b[39;00m \u001b[39mdrop\u001b[39m(  \u001b[39m# type: ignore[override]\u001b[39;00m\n\u001b[1;32m   5253\u001b[0m     \u001b[39mself\u001b[39m,\n\u001b[0;32m   (...)\u001b[0m\n\u001b[1;32m   5260\u001b[0m     errors: IgnoreRaise \u001b[39m=\u001b[39m \u001b[39m\"\u001b[39m\u001b[39mraise\u001b[39m\u001b[39m\"\u001b[39m,\n\u001b[1;32m   5261\u001b[0m ) \u001b[39m-\u001b[39m\u001b[39m>\u001b[39m DataFrame \u001b[39m|\u001b[39m \u001b[39mNone\u001b[39;00m:\n\u001b[1;32m   5262\u001b[0m \u001b[39m    \u001b[39m\u001b[39m\"\"\"\u001b[39;00m\n\u001b[1;32m   5263\u001b[0m \u001b[39m    Drop specified labels from rows or columns.\u001b[39;00m\n\u001b[1;32m   5264\u001b[0m \n\u001b[0;32m   (...)\u001b[0m\n\u001b[1;32m   5397\u001b[0m \u001b[39m            weight  1.0     0.8\u001b[39;00m\n\u001b[1;32m   5398\u001b[0m \u001b[39m    \"\"\"\u001b[39;00m\n\u001b[0;32m-> 5399\u001b[0m     \u001b[39mreturn\u001b[39;00m \u001b[39msuper\u001b[39;49m()\u001b[39m.\u001b[39;49mdrop(\n\u001b[1;32m   5400\u001b[0m         labels\u001b[39m=\u001b[39;49mlabels,\n\u001b[1;32m   5401\u001b[0m         axis\u001b[39m=\u001b[39;49maxis,\n\u001b[1;32m   5402\u001b[0m         index\u001b[39m=\u001b[39;49mindex,\n\u001b[1;32m   5403\u001b[0m         columns\u001b[39m=\u001b[39;49mcolumns,\n\u001b[1;32m   5404\u001b[0m         level\u001b[39m=\u001b[39;49mlevel,\n\u001b[1;32m   5405\u001b[0m         inplace\u001b[39m=\u001b[39;49minplace,\n\u001b[1;32m   5406\u001b[0m         errors\u001b[39m=\u001b[39;49merrors,\n\u001b[1;32m   5407\u001b[0m     )\n",
      "File \u001b[0;32m~/anaconda3/envs/Jovian/lib/python3.10/site-packages/pandas/util/_decorators.py:331\u001b[0m, in \u001b[0;36mdeprecate_nonkeyword_arguments.<locals>.decorate.<locals>.wrapper\u001b[0;34m(*args, **kwargs)\u001b[0m\n\u001b[1;32m    325\u001b[0m \u001b[39mif\u001b[39;00m \u001b[39mlen\u001b[39m(args) \u001b[39m>\u001b[39m num_allow_args:\n\u001b[1;32m    326\u001b[0m     warnings\u001b[39m.\u001b[39mwarn(\n\u001b[1;32m    327\u001b[0m         msg\u001b[39m.\u001b[39mformat(arguments\u001b[39m=\u001b[39m_format_argument_list(allow_args)),\n\u001b[1;32m    328\u001b[0m         \u001b[39mFutureWarning\u001b[39;00m,\n\u001b[1;32m    329\u001b[0m         stacklevel\u001b[39m=\u001b[39mfind_stack_level(),\n\u001b[1;32m    330\u001b[0m     )\n\u001b[0;32m--> 331\u001b[0m \u001b[39mreturn\u001b[39;00m func(\u001b[39m*\u001b[39;49margs, \u001b[39m*\u001b[39;49m\u001b[39m*\u001b[39;49mkwargs)\n",
      "File \u001b[0;32m~/anaconda3/envs/Jovian/lib/python3.10/site-packages/pandas/core/generic.py:4505\u001b[0m, in \u001b[0;36mNDFrame.drop\u001b[0;34m(self, labels, axis, index, columns, level, inplace, errors)\u001b[0m\n\u001b[1;32m   4503\u001b[0m \u001b[39mfor\u001b[39;00m axis, labels \u001b[39min\u001b[39;00m axes\u001b[39m.\u001b[39mitems():\n\u001b[1;32m   4504\u001b[0m     \u001b[39mif\u001b[39;00m labels \u001b[39mis\u001b[39;00m \u001b[39mnot\u001b[39;00m \u001b[39mNone\u001b[39;00m:\n\u001b[0;32m-> 4505\u001b[0m         obj \u001b[39m=\u001b[39m obj\u001b[39m.\u001b[39;49m_drop_axis(labels, axis, level\u001b[39m=\u001b[39;49mlevel, errors\u001b[39m=\u001b[39;49merrors)\n\u001b[1;32m   4507\u001b[0m \u001b[39mif\u001b[39;00m inplace:\n\u001b[1;32m   4508\u001b[0m     \u001b[39mself\u001b[39m\u001b[39m.\u001b[39m_update_inplace(obj)\n",
      "File \u001b[0;32m~/anaconda3/envs/Jovian/lib/python3.10/site-packages/pandas/core/generic.py:4546\u001b[0m, in \u001b[0;36mNDFrame._drop_axis\u001b[0;34m(self, labels, axis, level, errors, only_slice)\u001b[0m\n\u001b[1;32m   4544\u001b[0m         new_axis \u001b[39m=\u001b[39m axis\u001b[39m.\u001b[39mdrop(labels, level\u001b[39m=\u001b[39mlevel, errors\u001b[39m=\u001b[39merrors)\n\u001b[1;32m   4545\u001b[0m     \u001b[39melse\u001b[39;00m:\n\u001b[0;32m-> 4546\u001b[0m         new_axis \u001b[39m=\u001b[39m axis\u001b[39m.\u001b[39;49mdrop(labels, errors\u001b[39m=\u001b[39;49merrors)\n\u001b[1;32m   4547\u001b[0m     indexer \u001b[39m=\u001b[39m axis\u001b[39m.\u001b[39mget_indexer(new_axis)\n\u001b[1;32m   4549\u001b[0m \u001b[39m# Case for non-unique axis\u001b[39;00m\n\u001b[1;32m   4550\u001b[0m \u001b[39melse\u001b[39;00m:\n",
      "File \u001b[0;32m~/anaconda3/envs/Jovian/lib/python3.10/site-packages/pandas/core/indexes/base.py:6934\u001b[0m, in \u001b[0;36mIndex.drop\u001b[0;34m(self, labels, errors)\u001b[0m\n\u001b[1;32m   6932\u001b[0m \u001b[39mif\u001b[39;00m mask\u001b[39m.\u001b[39many():\n\u001b[1;32m   6933\u001b[0m     \u001b[39mif\u001b[39;00m errors \u001b[39m!=\u001b[39m \u001b[39m\"\u001b[39m\u001b[39mignore\u001b[39m\u001b[39m\"\u001b[39m:\n\u001b[0;32m-> 6934\u001b[0m         \u001b[39mraise\u001b[39;00m \u001b[39mKeyError\u001b[39;00m(\u001b[39mf\u001b[39m\u001b[39m\"\u001b[39m\u001b[39m{\u001b[39;00m\u001b[39mlist\u001b[39m(labels[mask])\u001b[39m}\u001b[39;00m\u001b[39m not found in axis\u001b[39m\u001b[39m\"\u001b[39m)\n\u001b[1;32m   6935\u001b[0m     indexer \u001b[39m=\u001b[39m indexer[\u001b[39m~\u001b[39mmask]\n\u001b[1;32m   6936\u001b[0m \u001b[39mreturn\u001b[39;00m \u001b[39mself\u001b[39m\u001b[39m.\u001b[39mdelete(indexer)\n",
      "\u001b[0;31mKeyError\u001b[0m: \"['weapon_used_cd', 'status', 'crm_cd_1', 'mocodes', 'part_1_2', 'cross_street', 'crm_cd_3', 'crm_cd_4', 'crm_cd_2'] not found in axis\""
     ]
    }
   ],
   "source": [
    "# Dropping the redundant columns\n",
    "cleaned_crime_df.drop(columns=['weapon_used_cd', 'status', 'crm_cd_1','mocodes','part_1_2','cross_street', 'crm_cd_3', 'crm_cd_4','crm_cd_2'], inplace=True)\n"
   ]
  },
  {
   "cell_type": "code",
   "execution_count": null,
   "metadata": {},
   "outputs": [],
   "source": []
  },
  {
   "attachments": {},
   "cell_type": "markdown",
   "metadata": {},
   "source": [
    "##### 2. Check for missing values in each column and replace them with appropriate values.<br>\n",
    "We find the null values using isna() function and use sum() function to find the total number of null values in each column.\n",
    "\n",
    "Here is how i dealt with the missing values in each column using Pandas *fillna()* method:\n",
    "- **weapon_desc** (474450(approx) Missing values) - Even though approx half of the values are null, the known values will provide us good info about weapons used. Null values Replaced with 'UNKNOWN WEAPON/OTHER WEAPON' value already found in the column.\n",
    "- **vict_sex** (94800(approx) Missing values) - Replaced with 'X' value already found in the column which represents unknown sex.\n",
    "- **vict_descent** (94800(approx) Missing values) - Replaced with 'unknown' which will represents unknown descent.\n",
    "- **premis_cd(9 missing values), premis_desc(407 missing values)** are analogous to each other. With exploration of these two columns we find that code 256 means unknown and has null values in the corresponding premis_desc column in the same row. Thus we fill missing values in premis_desc with 'unknown' and fill missing values in premis_cd with 256."
   ]
  },
  {
   "cell_type": "code",
   "execution_count": 13,
   "metadata": {},
   "outputs": [
    {
     "data": {
      "text/plain": [
       "dr_no                0\n",
       "date_rptd            0\n",
       "date_occ             0\n",
       "time_occ             0\n",
       "area                 0\n",
       "area_name            0\n",
       "rpt_dist_no          0\n",
       "crm_cd               0\n",
       "crm_cd_desc          0\n",
       "vict_age             0\n",
       "vict_sex         94835\n",
       "vict_descent     94841\n",
       "premis_cd            9\n",
       "premis_desc        407\n",
       "weapon_desc     474453\n",
       "status_desc          0\n",
       "location             0\n",
       "lat                  0\n",
       "lon                  0\n",
       "dtype: int64"
      ]
     },
     "execution_count": 13,
     "metadata": {},
     "output_type": "execute_result"
    }
   ],
   "source": [
    "#shows number of null values\n",
    "cleaned_crime_df.isna().sum()"
   ]
  },
  {
   "cell_type": "code",
   "execution_count": 14,
   "metadata": {},
   "outputs": [],
   "source": [
    "cleaned_crime_df['weapon_desc'].fillna('UNKNOWN WEAPON/OTHER WEAPON', inplace=True)\n",
    "cleaned_crime_df['vict_sex'].fillna('X', inplace=True)\n",
    "cleaned_crime_df['vict_descent'].fillna('Unknown', inplace=True)\n",
    "cleaned_crime_df['premis_cd'].fillna('256', inplace=True)\n",
    "cleaned_crime_df['premis_desc'].fillna('Unknown', inplace=True)\n"
   ]
  },
  {
   "cell_type": "code",
   "execution_count": 15,
   "metadata": {},
   "outputs": [
    {
     "data": {
      "text/plain": [
       "dr_no           0\n",
       "date_rptd       0\n",
       "date_occ        0\n",
       "time_occ        0\n",
       "area            0\n",
       "area_name       0\n",
       "rpt_dist_no     0\n",
       "crm_cd          0\n",
       "crm_cd_desc     0\n",
       "vict_age        0\n",
       "vict_sex        0\n",
       "vict_descent    0\n",
       "premis_cd       0\n",
       "premis_desc     0\n",
       "weapon_desc     0\n",
       "status_desc     0\n",
       "location        0\n",
       "lat             0\n",
       "lon             0\n",
       "dtype: int64"
      ]
     },
     "execution_count": 15,
     "metadata": {},
     "output_type": "execute_result"
    }
   ],
   "source": [
    "#check for missing values again\n",
    "cleaned_crime_df.isna().sum()"
   ]
  },
  {
   "attachments": {},
   "cell_type": "markdown",
   "metadata": {},
   "source": [
    "##### 3. Check for duplicates\n",
    "Using *duplicated() and sum()* methods. duplicated method looks for duplicate rows and sum sums up to show us the number of duplicate rows based on all the columns. We find that there are 0 duplicate rows."
   ]
  },
  {
   "cell_type": "code",
   "execution_count": 16,
   "metadata": {},
   "outputs": [
    {
     "data": {
      "text/plain": [
       "0"
      ]
     },
     "execution_count": 16,
     "metadata": {},
     "output_type": "execute_result"
    }
   ],
   "source": [
    "cleaned_crime_df.duplicated().sum()"
   ]
  },
  {
   "attachments": {},
   "cell_type": "markdown",
   "metadata": {},
   "source": [
    "##### 4. Check for outliers\n",
    "Using *describe()* method. We find that there are following outliers in the data:\n",
    "- **vict_age** - 120 and values less than 0 are outliers. Hence, these rows must be dropped. We found these by using the describe and unique methods on the column. Values equal to 0 are also outliers but they represent a significant number of victims and will cause considerable loss of data in other columns. Since this column is numeric and we will be using it for analysis, we will replace these values with the median of the column.\n",
    "- **vict_sex** - 'H' is an outlier and 'X' is a missing value. We will replace these with 'Unknown' which is more informative."
   ]
  },
  {
   "cell_type": "code",
   "execution_count": 46,
   "metadata": {},
   "outputs": [
    {
     "data": {
      "text/html": [
       "<div>\n",
       "<style scoped>\n",
       "    .dataframe tbody tr th:only-of-type {\n",
       "        vertical-align: middle;\n",
       "    }\n",
       "\n",
       "    .dataframe tbody tr th {\n",
       "        vertical-align: top;\n",
       "    }\n",
       "\n",
       "    .dataframe thead th {\n",
       "        text-align: right;\n",
       "    }\n",
       "</style>\n",
       "<table border=\"1\" class=\"dataframe\">\n",
       "  <thead>\n",
       "    <tr style=\"text-align: right;\">\n",
       "      <th></th>\n",
       "      <th>dr_no</th>\n",
       "      <th>area</th>\n",
       "      <th>rpt_dist_no</th>\n",
       "      <th>crm_cd</th>\n",
       "      <th>vict_age</th>\n",
       "      <th>lat</th>\n",
       "      <th>lon</th>\n",
       "    </tr>\n",
       "  </thead>\n",
       "  <tbody>\n",
       "    <tr>\n",
       "      <th>count</th>\n",
       "      <td>7.264790e+05</td>\n",
       "      <td>726479.000000</td>\n",
       "      <td>726479.000000</td>\n",
       "      <td>726479.000000</td>\n",
       "      <td>726479.000000</td>\n",
       "      <td>726479.000000</td>\n",
       "      <td>726479.000000</td>\n",
       "    </tr>\n",
       "    <tr>\n",
       "      <th>mean</th>\n",
       "      <td>2.141934e+08</td>\n",
       "      <td>10.717944</td>\n",
       "      <td>1118.178024</td>\n",
       "      <td>500.819900</td>\n",
       "      <td>38.936634</td>\n",
       "      <td>33.967237</td>\n",
       "      <td>-117.984820</td>\n",
       "    </tr>\n",
       "    <tr>\n",
       "      <th>std</th>\n",
       "      <td>9.983816e+06</td>\n",
       "      <td>6.091068</td>\n",
       "      <td>609.110615</td>\n",
       "      <td>207.963834</td>\n",
       "      <td>13.575629</td>\n",
       "      <td>1.903253</td>\n",
       "      <td>6.600506</td>\n",
       "    </tr>\n",
       "    <tr>\n",
       "      <th>min</th>\n",
       "      <td>8.170000e+02</td>\n",
       "      <td>1.000000</td>\n",
       "      <td>101.000000</td>\n",
       "      <td>110.000000</td>\n",
       "      <td>2.000000</td>\n",
       "      <td>0.000000</td>\n",
       "      <td>-118.667600</td>\n",
       "    </tr>\n",
       "    <tr>\n",
       "      <th>25%</th>\n",
       "      <td>2.020155e+08</td>\n",
       "      <td>6.000000</td>\n",
       "      <td>622.000000</td>\n",
       "      <td>331.000000</td>\n",
       "      <td>31.000000</td>\n",
       "      <td>34.013300</td>\n",
       "      <td>-118.429400</td>\n",
       "    </tr>\n",
       "    <tr>\n",
       "      <th>50%</th>\n",
       "      <td>2.118056e+08</td>\n",
       "      <td>11.000000</td>\n",
       "      <td>1142.000000</td>\n",
       "      <td>442.000000</td>\n",
       "      <td>37.000000</td>\n",
       "      <td>34.058400</td>\n",
       "      <td>-118.321400</td>\n",
       "    </tr>\n",
       "    <tr>\n",
       "      <th>75%</th>\n",
       "      <td>2.213133e+08</td>\n",
       "      <td>16.000000</td>\n",
       "      <td>1617.000000</td>\n",
       "      <td>626.000000</td>\n",
       "      <td>45.000000</td>\n",
       "      <td>34.163000</td>\n",
       "      <td>-118.273900</td>\n",
       "    </tr>\n",
       "    <tr>\n",
       "      <th>max</th>\n",
       "      <td>2.399097e+08</td>\n",
       "      <td>21.000000</td>\n",
       "      <td>2199.000000</td>\n",
       "      <td>956.000000</td>\n",
       "      <td>99.000000</td>\n",
       "      <td>34.334300</td>\n",
       "      <td>0.000000</td>\n",
       "    </tr>\n",
       "  </tbody>\n",
       "</table>\n",
       "</div>"
      ],
      "text/plain": [
       "              dr_no           area    rpt_dist_no         crm_cd  \\\n",
       "count  7.264790e+05  726479.000000  726479.000000  726479.000000   \n",
       "mean   2.141934e+08      10.717944    1118.178024     500.819900   \n",
       "std    9.983816e+06       6.091068     609.110615     207.963834   \n",
       "min    8.170000e+02       1.000000     101.000000     110.000000   \n",
       "25%    2.020155e+08       6.000000     622.000000     331.000000   \n",
       "50%    2.118056e+08      11.000000    1142.000000     442.000000   \n",
       "75%    2.213133e+08      16.000000    1617.000000     626.000000   \n",
       "max    2.399097e+08      21.000000    2199.000000     956.000000   \n",
       "\n",
       "            vict_age            lat            lon  \n",
       "count  726479.000000  726479.000000  726479.000000  \n",
       "mean       38.936634      33.967237    -117.984820  \n",
       "std        13.575629       1.903253       6.600506  \n",
       "min         2.000000       0.000000    -118.667600  \n",
       "25%        31.000000      34.013300    -118.429400  \n",
       "50%        37.000000      34.058400    -118.321400  \n",
       "75%        45.000000      34.163000    -118.273900  \n",
       "max        99.000000      34.334300       0.000000  "
      ]
     },
     "execution_count": 46,
     "metadata": {},
     "output_type": "execute_result"
    }
   ],
   "source": [
    "cleaned_crime_df.describe()"
   ]
  },
  {
   "attachments": {},
   "cell_type": "markdown",
   "metadata": {},
   "source": [
    "##### Check for outliers in 'vict_age' column"
   ]
  },
  {
   "cell_type": "code",
   "execution_count": 114,
   "metadata": {},
   "outputs": [
    {
     "data": {
      "text/plain": [
       "array([ 36,  25,   0,  76,  31,  23,  29,  35,  41,  24,  34,  46,  66,\n",
       "        40,  27,  62,  43,  71,  50,  19,  51,  33,  69,  39,  57,  78,\n",
       "        52,  38,  55,  44,  18,  54,  22,  28,  42,  56,  67,  37,  60,\n",
       "        61,  59,  32,  30,  45,  20,  15,  58,  47,  48,  26,  21,  64,\n",
       "        75,  12,  49,  68,  14,  13,  10,  53,  74,  17,  65,  63,   8,\n",
       "        16,  72,  70,   9,  90,  85,  81,  79,  94,  73,  11,  80,   5,\n",
       "        82,   2,  77,  84,  88,  96,  99,   7,  86,  92,   3,  83,  87,\n",
       "         6,  -1,  89,   4,  93,  98,  91,  95,  -2,  97, 120])"
      ]
     },
     "execution_count": 114,
     "metadata": {},
     "output_type": "execute_result"
    }
   ],
   "source": [
    "\n",
    "cleaned_crime_df['vict_age'].unique()"
   ]
  },
  {
   "cell_type": "code",
   "execution_count": 19,
   "metadata": {},
   "outputs": [
    {
     "data": {
      "text/plain": [
       "(1, 19)"
      ]
     },
     "execution_count": 19,
     "metadata": {},
     "output_type": "execute_result"
    }
   ],
   "source": [
    "# Check how many rows have age greater than 100. Upon checking Only 1 row has age greater than 100 so we can safely drop it\n",
    "cleaned_crime_df[cleaned_crime_df['vict_age']>100].shape"
   ]
  },
  {
   "cell_type": "code",
   "execution_count": 20,
   "metadata": {},
   "outputs": [
    {
     "data": {
      "text/plain": [
       "(51, 19)"
      ]
     },
     "execution_count": 20,
     "metadata": {},
     "output_type": "execute_result"
    }
   ],
   "source": [
    "# check how many rows have age less than 0. 51 rows have age less than 0 so we can safely drop them\n",
    "cleaned_crime_df[cleaned_crime_df['vict_age']<0].shape"
   ]
  },
  {
   "cell_type": "code",
   "execution_count": 21,
   "metadata": {},
   "outputs": [
    {
     "data": {
      "text/plain": [
       "(176828, 19)"
      ]
     },
     "execution_count": 21,
     "metadata": {},
     "output_type": "execute_result"
    }
   ],
   "source": [
    "# check how many rows have age=0. Upon checking, 176828 rows have age=0. We can't drop them as they are too many. We will replace them with the median age\n",
    "cleaned_crime_df[cleaned_crime_df['vict_age']==0].shape"
   ]
  },
  {
   "cell_type": "code",
   "execution_count": 22,
   "metadata": {},
   "outputs": [],
   "source": [
    "# drop rows with age less than 0\n",
    "cleaned_crime_df.drop(cleaned_crime_df[cleaned_crime_df['vict_age']<0].index, inplace=True)\n",
    "# drop rows with age greater than 100\n",
    "cleaned_crime_df.drop(cleaned_crime_df[cleaned_crime_df['vict_age']>100].index, inplace=True)\n"
   ]
  },
  {
   "cell_type": "code",
   "execution_count": 27,
   "metadata": {},
   "outputs": [
    {
     "data": {
      "text/plain": [
       "39.559667861970595"
      ]
     },
     "execution_count": 27,
     "metadata": {},
     "output_type": "execute_result"
    }
   ],
   "source": [
    "# check the mean of vict_age column but exclude rows with age=0\n",
    "mean_age=cleaned_crime_df[cleaned_crime_df['vict_age']!=0]['vict_age'].mean()\n",
    "mean_age"
   ]
  },
  {
   "cell_type": "code",
   "execution_count": 26,
   "metadata": {},
   "outputs": [
    {
     "data": {
      "text/plain": [
       "37.0"
      ]
     },
     "execution_count": 26,
     "metadata": {},
     "output_type": "execute_result"
    }
   ],
   "source": [
    "# find out median of vict_age column but exclude rows with age=0\n",
    "median_age=cleaned_crime_df[cleaned_crime_df['vict_age']!=0]['vict_age'].median()\n",
    "median_age\n"
   ]
  },
  {
   "cell_type": "code",
   "execution_count": 42,
   "metadata": {},
   "outputs": [],
   "source": [
    "# replace age=0 with median age\n",
    "cleaned_crime_df['vict_age'].replace(0, median_age, inplace=True)"
   ]
  },
  {
   "cell_type": "code",
   "execution_count": 49,
   "metadata": {},
   "outputs": [
    {
     "data": {
      "text/plain": [
       "array([36, 25, 37, 76, 31, 23, 29, 35, 41, 24, 34, 46, 66, 40, 27, 62, 43,\n",
       "       71, 50, 19, 51, 33, 69, 39, 57, 78, 52, 38, 55, 44, 18, 54, 22, 28,\n",
       "       42, 56, 67, 60, 61, 59, 32, 30, 45, 20, 15, 58, 47, 48, 26, 21, 64,\n",
       "       75, 12, 49, 68, 14, 13, 10, 53, 74, 17, 65, 63,  8, 16, 72, 70,  9,\n",
       "       90, 85, 81, 79, 94, 73, 11, 80,  5, 82,  2, 77, 84, 88, 96, 99,  7,\n",
       "       86, 92,  3, 83, 87,  6, 89,  4, 93, 98, 91, 95, 97])"
      ]
     },
     "execution_count": 49,
     "metadata": {},
     "output_type": "execute_result"
    }
   ],
   "source": [
    "#checking unique values in vict_age column again after cleaning the data\n",
    "cleaned_crime_df['vict_age'].unique()\n",
    "\n",
    "# all values seem plausible now"
   ]
  },
  {
   "attachments": {},
   "cell_type": "markdown",
   "metadata": {},
   "source": [
    "##### Checking for outliers in 'vict_sex' column"
   ]
  },
  {
   "cell_type": "code",
   "execution_count": 51,
   "metadata": {},
   "outputs": [
    {
     "data": {
      "text/plain": [
       "M    301299\n",
       "F    268635\n",
       "X    156463\n",
       "H        82\n",
       "Name: vict_sex, dtype: int64"
      ]
     },
     "execution_count": 51,
     "metadata": {},
     "output_type": "execute_result"
    }
   ],
   "source": [
    "cleaned_crime_df['vict_sex'].value_counts()"
   ]
  },
  {
   "cell_type": "code",
   "execution_count": 52,
   "metadata": {},
   "outputs": [],
   "source": [
    "# replace 'X' and 'H' with 'Unknown' in vict sex column\n",
    "cleaned_crime_df['vict_sex'].replace(['X', 'H'], 'Unknown', inplace=True)\n"
   ]
  },
  {
   "cell_type": "code",
   "execution_count": null,
   "metadata": {},
   "outputs": [],
   "source": []
  }
 ],
 "metadata": {
  "kernelspec": {
   "display_name": "Jovian",
   "language": "python",
   "name": "python3"
  },
  "language_info": {
   "codemirror_mode": {
    "name": "ipython",
    "version": 3
   },
   "file_extension": ".py",
   "mimetype": "text/x-python",
   "name": "python",
   "nbconvert_exporter": "python",
   "pygments_lexer": "ipython3",
   "version": "3.10.11"
  },
  "orig_nbformat": 4
 },
 "nbformat": 4,
 "nbformat_minor": 2
}
